{
  "nbformat": 4,
  "nbformat_minor": 0,
  "metadata": {
    "colab": {
      "provenance": []
    },
    "kernelspec": {
      "name": "python3",
      "display_name": "Python 3"
    },
    "language_info": {
      "name": "python"
    }
  },
  "cells": [
    {
      "cell_type": "markdown",
      "source": [
        "Import libraries"
      ],
      "metadata": {
        "id": "igCpvslZNY11"
      }
    },
    {
      "cell_type": "code",
      "source": [
        "import pandas as pd\n"
      ],
      "metadata": {
        "id": "11rzjsfQp0Jo"
      },
      "execution_count": 1,
      "outputs": []
    },
    {
      "cell_type": "markdown",
      "source": [
        "load the data of the csv file"
      ],
      "metadata": {
        "id": "mPm3DiESNifC"
      }
    },
    {
      "cell_type": "code",
      "source": [
        "df_task2 = pd.read_csv('/content/sample_data/Au_nanoparticle_dataset.csv', encoding='latin')"
      ],
      "metadata": {
        "id": "mxA-P5-wFE15"
      },
      "execution_count": 2,
      "outputs": []
    },
    {
      "cell_type": "code",
      "source": [
        "print(df_task2.head())"
      ],
      "metadata": {
        "colab": {
          "base_uri": "https://localhost:8080/"
        },
        "id": "cF2GWrm6FNxh",
        "outputId": "d661d5ed-9126-427e-fc39-faeef6802af4"
      },
      "execution_count": 3,
      "outputs": [
        {
          "output_type": "stream",
          "name": "stdout",
          "text": [
            "   ID    T       tau  time  N_total  N_bulk  N_surface        Volume    R_min  \\\n",
            "0   1  273  0.000025     1     1599    1014        585  2.710000e-26  15.5898   \n",
            "1   2  273  0.000025     2     1642    1034        608  2.780000e-26  15.3996   \n",
            "2   3  273  0.000025     3     4637    3365       1272  7.850000e-26  21.9199   \n",
            "3   4  273  0.000025     4     7189    5292       1897  1.220000e-25  23.2542   \n",
            "4   5  273  0.000025     5    11004    8508       2496  1.860000e-25  27.1200   \n",
            "\n",
            "     R_max  ...  q6q6_S14  q6q6_S15  q6q6_S16  q6q6_S17  q6q6_S18  q6q6_S19  \\\n",
            "0  19.4516  ...         0         0         0         0         0         0   \n",
            "1  24.1755  ...         0         0         0         0         0         0   \n",
            "2  31.0305  ...         0         0         0         0         0         0   \n",
            "3  37.8795  ...         0         0         0         0         0         0   \n",
            "4  39.7614  ...         0         0         0         0         0         0   \n",
            "\n",
            "   q6q6_S20  q6q6_S20+     Total_E  Formation_E  \n",
            "0         0          0  -5908.6345     343.4555  \n",
            "1         0          0  -6035.4034     384.8166  \n",
            "2         0          0 -17330.1660     800.5040  \n",
            "3         0          0 -26937.2010    1171.7890  \n",
            "4         0          0 -41427.9010    1597.7390  \n",
            "\n",
            "[5 rows x 185 columns]\n"
          ]
        }
      ]
    },
    {
      "cell_type": "code",
      "source": [
        "print(df_task2.columns)"
      ],
      "metadata": {
        "colab": {
          "base_uri": "https://localhost:8080/"
        },
        "id": "rmeQbjpHK0Bc",
        "outputId": "20d79fa3-8a62-42d3-8b24-948db0adffbd"
      },
      "execution_count": 4,
      "outputs": [
        {
          "output_type": "stream",
          "name": "stdout",
          "text": [
            "Index(['ID', 'T', 'tau', 'time', 'N_total', 'N_bulk', 'N_surface', 'Volume',\n",
            "       'R_min', 'R_max',\n",
            "       ...\n",
            "       'q6q6_S14', 'q6q6_S15', 'q6q6_S16', 'q6q6_S17', 'q6q6_S18', 'q6q6_S19',\n",
            "       'q6q6_S20', 'q6q6_S20+', 'Total_E', 'Formation_E'],\n",
            "      dtype='object', length=185)\n"
          ]
        }
      ]
    },
    {
      "cell_type": "markdown",
      "source": [
        "Check for missing values"
      ],
      "metadata": {
        "id": "uiM71ArtNsU-"
      }
    },
    {
      "cell_type": "code",
      "source": [
        "missing_data = df_task2.isnull().sum()\n",
        "print(missing_data)"
      ],
      "metadata": {
        "colab": {
          "base_uri": "https://localhost:8080/"
        },
        "id": "OQKLXxB3LyiM",
        "outputId": "78d303d5-4ffd-4c2c-98b9-c21a443e941c"
      },
      "execution_count": 5,
      "outputs": [
        {
          "output_type": "stream",
          "name": "stdout",
          "text": [
            "ID             0\n",
            "T              0\n",
            "tau            0\n",
            "time           0\n",
            "N_total        0\n",
            "              ..\n",
            "q6q6_S19       0\n",
            "q6q6_S20       0\n",
            "q6q6_S20+      0\n",
            "Total_E        0\n",
            "Formation_E    1\n",
            "Length: 185, dtype: int64\n"
          ]
        }
      ]
    },
    {
      "cell_type": "markdown",
      "source": [
        "Fill the missing value"
      ],
      "metadata": {
        "id": "bLYnRYgXNxyc"
      }
    },
    {
      "cell_type": "code",
      "source": [
        "df_task2['Formation_E'] = df_task2['Formation_E'].fillna(0)"
      ],
      "metadata": {
        "id": "u6NEFqEFNGRE"
      },
      "execution_count": 6,
      "outputs": []
    },
    {
      "cell_type": "code",
      "source": [
        "print(df_task2.isnull().sum())"
      ],
      "metadata": {
        "colab": {
          "base_uri": "https://localhost:8080/"
        },
        "id": "XcAyYt5tNKkk",
        "outputId": "246fb9f5-e65b-4019-8ec3-bd63362a6cc9"
      },
      "execution_count": 7,
      "outputs": [
        {
          "output_type": "stream",
          "name": "stdout",
          "text": [
            "ID             0\n",
            "T              0\n",
            "tau            0\n",
            "time           0\n",
            "N_total        0\n",
            "              ..\n",
            "q6q6_S19       0\n",
            "q6q6_S20       0\n",
            "q6q6_S20+      0\n",
            "Total_E        0\n",
            "Formation_E    0\n",
            "Length: 185, dtype: int64\n"
          ]
        }
      ]
    },
    {
      "cell_type": "code",
      "source": [
        "df_filtered = df_task2.drop(['N_total', 'N_bulk', 'N_surface', 'R_avg'], axis=1)"
      ],
      "metadata": {
        "id": "ujqBrWcSO4-u"
      },
      "execution_count": 8,
      "outputs": []
    },
    {
      "cell_type": "code",
      "source": [
        "print(df_filtered.head(20))"
      ],
      "metadata": {
        "id": "2bU1Ksi-PK6Y",
        "outputId": "f43dc40b-f203-492a-cde5-563da2db55ff",
        "colab": {
          "base_uri": "https://localhost:8080/"
        }
      },
      "execution_count": 9,
      "outputs": [
        {
          "output_type": "stream",
          "name": "stdout",
          "text": [
            "    ID    T       tau  time        Volume    R_min    R_max   R_diff   R_std  \\\n",
            "0    1  273  0.000025     1  2.710000e-26  15.5898  19.4516   3.8618  0.6230   \n",
            "1    2  273  0.000025     2  2.780000e-26  15.3996  24.1755   8.7760  0.9295   \n",
            "2    3  273  0.000025     3  7.850000e-26  21.9199  31.0305   9.1106  1.0701   \n",
            "3    4  273  0.000025     4  1.220000e-25  23.2542  37.8795  14.6253  2.3732   \n",
            "4    5  273  0.000025     5  1.860000e-25  27.1200  39.7614  12.6415  1.9397   \n",
            "5    6  273  0.000025     6  2.260000e-25  33.2496  42.9612   9.7116  1.0219   \n",
            "6    7  273  0.000025     7  2.340000e-25  33.6164  41.6168   8.0004  0.8979   \n",
            "7    8  273  0.000025     8  2.360000e-25  34.5185  41.4386   6.9201  0.8595   \n",
            "8    9  273  0.000025     9  2.370000e-25  34.7525  41.5998   6.8473  0.8483   \n",
            "9   10  273  0.000025    10  2.380000e-25  34.7870  41.5401   6.7531  0.8308   \n",
            "10  11  273  0.000050     1  2.600000e-26  15.0408  18.6580   3.6172  0.6360   \n",
            "11  12  273  0.000050     2  2.640000e-26  15.2500  20.1922   4.9422  0.7373   \n",
            "12  13  273  0.000050     3  7.370000e-26  19.0905  31.4046  12.3142  1.5983   \n",
            "13  14  273  0.000050     4  1.110000e-25  21.0893  43.3430  22.2537  3.3106   \n",
            "14  15  273  0.000050     5  1.720000e-25  23.0091  44.4712  21.4622  2.5078   \n",
            "15  16  273  0.000050     6  2.100000e-25  25.5699  40.2473  14.6774  1.5220   \n",
            "16  17  273  0.000050     7  2.240000e-25  29.4835  40.5452  11.0617  1.1175   \n",
            "17  18  273  0.000050     8  2.290000e-25  25.6333  40.6839  15.0506  0.9993   \n",
            "18  19  273  0.000050     9  2.320000e-25  25.4981  42.5402  17.0421  0.9585   \n",
            "19  20  273  0.000050    10  2.330000e-25  25.5924  41.2502  15.6578  0.9411   \n",
            "\n",
            "    R_skew  ...  q6q6_S14  q6q6_S15  q6q6_S16  q6q6_S17  q6q6_S18  q6q6_S19  \\\n",
            "0  -0.0435  ...         0         0         0         0         0         0   \n",
            "1   2.0673  ...         0         0         0         0         0         0   \n",
            "2   0.3618  ...         0         0         0         0         0         0   \n",
            "3   0.1431  ...         0         0         0         0         0         0   \n",
            "4  -0.3849  ...         0         0         0         0         0         0   \n",
            "5   0.3804  ...         0         0         0         0         0         0   \n",
            "6   0.3041  ...         0         0         0         0         0         0   \n",
            "7   0.3214  ...         0         0         0         0         0         0   \n",
            "8   0.3588  ...         0         0         0         0         0         0   \n",
            "9   0.3666  ...         0         0         0         0         0         0   \n",
            "10 -0.2588  ...         0         0         0         0         0         0   \n",
            "11  0.1817  ...         0         0         0         0         0         0   \n",
            "12 -0.0225  ...         0         0         0         0         0         0   \n",
            "13  0.9406  ...         0         0         0         0         0         0   \n",
            "14  0.0709  ...         0         0         0         0         0         0   \n",
            "15 -0.7864  ...         0         0         0         0         0         0   \n",
            "16 -0.0657  ...         0         0         0         0         0         0   \n",
            "17 -0.3920  ...         0         0         0         0         0         0   \n",
            "18 -0.2993  ...         0         0         0         0         0         0   \n",
            "19 -0.4050  ...         0         0         0         0         0         0   \n",
            "\n",
            "    q6q6_S20  q6q6_S20+     Total_E  Formation_E  \n",
            "0          0          0  -5908.6345     343.4555  \n",
            "1          0          0  -6035.4034     384.8166  \n",
            "2          0          0 -17330.1660     800.5040  \n",
            "3          0          0 -26937.2010    1171.7890  \n",
            "4          0          0 -41427.9010    1597.7390  \n",
            "5          0          0 -50687.6660    1608.5840  \n",
            "6          0          0 -52334.7900    1603.6600  \n",
            "7          0          0 -52912.3150    1620.4550  \n",
            "8          0          0 -53212.1320    1606.0680  \n",
            "9          0          0 -53347.8030    1611.1570  \n",
            "10         0          0  -5661.4037     336.5363  \n",
            "11         0          0  -5740.2743     355.4157  \n",
            "12         0          0 -16265.0840     766.8760  \n",
            "13         0          0 -24468.5800    1141.9200  \n",
            "14         0          0 -38240.1600    1544.0900  \n",
            "15         0          0 -46845.8610    1610.7690  \n",
            "16         0          0 -50040.1090    1599.2610  \n",
            "17         0          0 -51345.0440    1608.0860  \n",
            "18         0          0 -52018.5740    1599.2560  \n",
            "19         0          0 -52325.6640    1597.1460  \n",
            "\n",
            "[20 rows x 181 columns]\n"
          ]
        }
      ]
    },
    {
      "cell_type": "markdown",
      "source": [
        "Calculate the mean, standard deviation and quartile values"
      ],
      "metadata": {
        "id": "KyoHcLDlise7"
      }
    },
    {
      "cell_type": "code",
      "source": [
        "statistics = df_task2[['N_total', 'N_bulk', 'N_surface', 'R_avg']].describe()"
      ],
      "metadata": {
        "id": "oFd4qVePiOqF"
      },
      "execution_count": 10,
      "outputs": []
    },
    {
      "cell_type": "code",
      "source": [
        "print(statistics)"
      ],
      "metadata": {
        "colab": {
          "base_uri": "https://localhost:8080/"
        },
        "id": "q-JVoULeic5j",
        "outputId": "801fa635-0ace-4b61-9225-07a3275efbea"
      },
      "execution_count": 11,
      "outputs": [
        {
          "output_type": "stream",
          "name": "stdout",
          "text": [
            "            N_total        N_bulk   N_surface        R_avg\n",
            "count   4000.000000   4000.000000  4000.00000  4000.000000\n",
            "mean    3476.786500   2521.550250   955.23625    20.654363\n",
            "std     3679.286769   2976.232459   721.87022     7.610716\n",
            "min      236.000000     89.000000   137.00000     8.528600\n",
            "25%     1061.000000    618.750000   437.00000    15.160725\n",
            "50%     1867.000000   1199.000000   666.00000    18.629250\n",
            "75%     4503.000000   3183.000000  1301.75000    25.525125\n",
            "max    14277.000000  11580.000000  3190.00000    39.239200\n"
          ]
        }
      ]
    },
    {
      "cell_type": "markdown",
      "source": [
        "Plot the histogram"
      ],
      "metadata": {
        "id": "Jx59et_Di1F-"
      }
    },
    {
      "cell_type": "code",
      "source": [
        "import matplotlib.pyplot as plt"
      ],
      "metadata": {
        "id": "ufVJx5DVi9dH"
      },
      "execution_count": 12,
      "outputs": []
    },
    {
      "cell_type": "code",
      "source": [
        "fig, axes = plt.subplots(1, 4, figsize=(15, 5))"
      ],
      "metadata": {
        "colab": {
          "base_uri": "https://localhost:8080/",
          "height": 451
        },
        "id": "rVIRO2OSjGUW",
        "outputId": "0d1b2680-4cf1-44e6-ab92-e11f4e45fbf3"
      },
      "execution_count": 13,
      "outputs": [
        {
          "output_type": "display_data",
          "data": {
            "text/plain": [
              "<Figure size 1500x500 with 4 Axes>"
            ],
            "image/png": "[encoded data removed]"
          },
          "metadata": {}
        }
      ]
    },
    {
      "cell_type": "code",
      "source": [
        "features = ['N_total', 'N_bulk', 'N_surface', 'R_avg']"
      ],
      "metadata": {
        "id": "v7VoOJBPjOv6"
      },
      "execution_count": 14,
      "outputs": []
    },
    {
      "cell_type": "code",
      "source": [
        "for i, feature in enumerate(features):\n",
        "    axes[i].hist(df_task2[feature], bins=30, color='blue', edgecolor='black')\n",
        "    axes[i].set_title(f'Histogram of {feature}')\n",
        "    axes[i].set_xlabel(feature)\n",
        "    axes[i].set_ylabel('Frequency')"
      ],
      "metadata": {
        "id": "dRJmAMhQjSyQ"
      },
      "execution_count": 15,
      "outputs": []
    },
    {
      "cell_type": "code",
      "source": [
        "plt.show()"
      ],
      "metadata": {
        "id": "TOaUFF4YjcFC"
      },
      "execution_count": 16,
      "outputs": []
    },
    {
      "cell_type": "code",
      "source": [
        "fig, axes = plt.subplots(1, 4, figsize=(15, 5))\n",
        "\n",
        "features = ['N_total', 'N_bulk', 'N_surface', 'R_avg']\n",
        "\n",
        "for i, feature in enumerate(features):\n",
        "    axes[i].hist(df_task2[feature], bins=30, color='blue', edgecolor='black')\n",
        "    axes[i].set_title(f'Histogram of {feature}')\n",
        "    axes[i].set_xlabel(feature)\n",
        "    axes[i].set_ylabel('Frequency')\n",
        "\n",
        "plt.tight_layout()\n",
        "plt.show()\n"
      ],
      "metadata": {
        "colab": {
          "base_uri": "https://localhost:8080/",
          "height": 482
        },
        "id": "BaU64uMMj_Zf",
        "outputId": "d9f88e3c-8682-45ba-ed00-81193fdc5f30"
      },
      "execution_count": 17,
      "outputs": [
        {
          "output_type": "display_data",
          "data": {
            "text/plain": [
              "<Figure size 1500x500 with 4 Axes>"
            ],
            "image/png": "[encoded data removed]"
          },
          "metadata": {}
        }
      ]
    },
    {
      "cell_type": "code",
      "source": [
        "import seaborn as sns\n",
        "import pandas as pd"
      ],
      "metadata": {
        "id": "CvLjWZlnkUiC"
      },
      "execution_count": 18,
      "outputs": []
    },
    {
      "cell_type": "code",
      "source": [
        "df_task2 = pd.read_csv('/content/sample_data/Au_nanoparticle_dataset.csv', encoding='latin')"
      ],
      "metadata": {
        "id": "cIKrYVU3TugS"
      },
      "execution_count": 19,
      "outputs": []
    },
    {
      "cell_type": "code",
      "source": [
        "df_filtered = df_task2.drop(['N_total', 'N_bulk', 'N_surface', 'R_avg'], axis=1)"
      ],
      "metadata": {
        "id": "-XZOBSm5TfTm"
      },
      "execution_count": 20,
      "outputs": []
    },
    {
      "cell_type": "code",
      "source": [
        "print(df_filtered.head())"
      ],
      "metadata": {
        "colab": {
          "base_uri": "https://localhost:8080/"
        },
        "id": "BqtS-kMZWn2l",
        "outputId": "cc262529-af73-45f9-b14d-9fabb2b1dd83"
      },
      "execution_count": 21,
      "outputs": [
        {
          "output_type": "stream",
          "name": "stdout",
          "text": [
            "   ID    T       tau  time        Volume    R_min    R_max   R_diff   R_std  \\\n",
            "0   1  273  0.000025     1  2.710000e-26  15.5898  19.4516   3.8618  0.6230   \n",
            "1   2  273  0.000025     2  2.780000e-26  15.3996  24.1755   8.7760  0.9295   \n",
            "2   3  273  0.000025     3  7.850000e-26  21.9199  31.0305   9.1106  1.0701   \n",
            "3   4  273  0.000025     4  1.220000e-25  23.2542  37.8795  14.6253  2.3732   \n",
            "4   5  273  0.000025     5  1.860000e-25  27.1200  39.7614  12.6415  1.9397   \n",
            "\n",
            "   R_skew  ...  q6q6_S14  q6q6_S15  q6q6_S16  q6q6_S17  q6q6_S18  q6q6_S19  \\\n",
            "0 -0.0435  ...         0         0         0         0         0         0   \n",
            "1  2.0673  ...         0         0         0         0         0         0   \n",
            "2  0.3618  ...         0         0         0         0         0         0   \n",
            "3  0.1431  ...         0         0         0         0         0         0   \n",
            "4 -0.3849  ...         0         0         0         0         0         0   \n",
            "\n",
            "   q6q6_S20  q6q6_S20+     Total_E  Formation_E  \n",
            "0         0          0  -5908.6345     343.4555  \n",
            "1         0          0  -6035.4034     384.8166  \n",
            "2         0          0 -17330.1660     800.5040  \n",
            "3         0          0 -26937.2010    1171.7890  \n",
            "4         0          0 -41427.9010    1597.7390  \n",
            "\n",
            "[5 rows x 181 columns]\n"
          ]
        }
      ]
    },
    {
      "cell_type": "code",
      "source": [
        "sns.pairplot(df_filtered)\n",
        "plt.show()"
      ],
      "metadata": {
        "id": "8HzJxyeRXKZx"
      },
      "execution_count": null,
      "outputs": []
    }
  ]
}